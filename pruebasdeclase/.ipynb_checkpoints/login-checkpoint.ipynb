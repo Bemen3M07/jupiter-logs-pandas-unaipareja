{
 "cells": [
  {
   "cell_type": "code",
   "execution_count": 1,
   "id": "244fb1ad-a311-420e-b79a-7648cc16e5a7",
   "metadata": {},
   "outputs": [],
   "source": [
    "import logging\n",
    "logger = logging.getLogger(__name__)\n",
    "logging.basicConfig(filename='example.log', encoding='utf-8', level=logging.DEBUG)\n",
    "logger.debug('This message should go to the log file')\n",
    "logger.info('So should this')\n",
    "logger.warning('And this, too')\n",
    "logger.error('And non-ASCII stuff, too, like Øresund and Malmö')"
   ]
  }
 ],
 "metadata": {
  "kernelspec": {
   "display_name": "Python 3 (ipykernel)",
   "language": "python",
   "name": "python3"
  },
  "language_info": {
   "codemirror_mode": {
    "name": "ipython",
    "version": 3
   },
   "file_extension": ".py",
   "mimetype": "text/x-python",
   "name": "python",
   "nbconvert_exporter": "python",
   "pygments_lexer": "ipython3",
   "version": "3.12.1"
  }
 },
 "nbformat": 4,
 "nbformat_minor": 5
}
