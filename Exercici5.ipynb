{
 "cells": [
  {
   "cell_type": "markdown",
   "id": "a8ca822b-7d47-4cba-8d19-76e2a7098081",
   "metadata": {},
   "source": [
    "# Exercici 5 \n",
    "Un cop tractades les dades introduïdes via fitxer caldrà investigar la llibreria que hagueu triat i elaborar com a mínim el codi necessari per presentar de forma que tinguin sentit amb l'àmbit del problema una sèrie de dades transformades obtingudes corresponents a, (s’haurà de adequar a les vostres dades però per a que tingueu algun exemple).\n",
    "\n",
    "Ex.\n",
    "La mitjana de nota final de cada alumne\n",
    "La mitjana de nota final de tots els alumnes en conjunts.\n",
    "Percentatges d'aprovats i suspesos\n",
    "Notes més baixes o més altes.\n",
    "Algun altre que creieu interessant.\n",
    "\n",
    "Com a restricció caldrà com a mínim generar cinc resultats coherents amb un procés\n",
    "d’avaluació.\n"
   ]
  },
  {
   "cell_type": "code",
   "execution_count": 2,
   "id": "6153761f-c09c-4cc6-9b8c-e78bb7d32fbb",
   "metadata": {},
   "outputs": [
    {
     "name": "stdout",
     "output_type": "stream",
     "text": [
      "Mitjana de nota final de cada alumne:\n",
      "    Alumne  Mitjana\n",
      "0   Xavier     7.50\n",
      "1     Marc     7.50\n",
      "2    Jaume     7.75\n",
      "3    Laura     7.50\n",
      "4    Jordi     7.50\n",
      "5     Sara     6.50\n",
      "6      Pau     7.00\n",
      "7    Clara     6.50\n",
      "8    Oriol     5.50\n",
      "9    David     9.50\n",
      "10   Núria     6.75\n",
      "11  Miquel     7.00\n",
      "12     Pol     5.50\n",
      "13    Joan     7.75\n",
      "14   Arnau     7.00\n",
      "15    Anna     7.50\n",
      "16  Carles     7.25\n",
      "17   Marta     7.00\n",
      "18   Sònia     6.50\n",
      "19    Ivan     8.75\n",
      "\n",
      "Mitjana de nota final de tots els alumnes: 7.19\n",
      "\n",
      "Percentatge d'aprovats: 100.00%\n",
      "Percentatge de suspesos: 0.00%\n",
      "\n",
      "Nota més alta: 10\n",
      "Nota més baixa: 4\n",
      "\n",
      "Alumne amb la nota més alta de mitjana:\n",
      "David (Mitjana: 9.50)\n"
     ]
    }
   ],
   "source": [
    "import pandas as pd\n",
    "\n",
    "# Carregar el fitxer CSV\n",
    "df = pd.read_csv('notes.csv')\n",
    "\n",
    "# 1. La mitjana de nota final de cada alumne\n",
    "df['Mitjana'] = df[['M01', 'M04', 'M03', 'M05']].mean(axis=1)\n",
    "print(\"Mitjana de nota final de cada alumne:\")\n",
    "print(df[['Alumne', 'Mitjana']])\n",
    "\n",
    "# 2. La mitjana de nota final de tots els alumnes\n",
    "mitjana_total = df['Mitjana'].mean()\n",
    "print(f\"\\nMitjana de nota final de tots els alumnes: {mitjana_total:.2f}\")\n",
    "\n",
    "# 3. Percentatges d'aprovats i suspesos (nota >= 5 és aprovat)\n",
    "aprovats = (df['Mitjana'] >= 5).sum()\n",
    "suspesos = (df['Mitjana'] < 5).sum()\n",
    "total = len(df)\n",
    "percentatge_aprovats = (aprovats / total) * 100\n",
    "percentatge_suspesos = (suspesos / total) * 100\n",
    "print(f\"\\nPercentatge d'aprovats: {percentatge_aprovats:.2f}%\")\n",
    "print(f\"Percentatge de suspesos: {percentatge_suspesos:.2f}%\")\n",
    "\n",
    "# 4. Notes més baixes i més altes\n",
    "nota_mes_alta = df[['M01', 'M04', 'M03', 'M05']].max().max()\n",
    "nota_mes_baixa = df[['M01', 'M04', 'M03', 'M05']].min().min()\n",
    "print(f\"\\nNota més alta: {nota_mes_alta}\")\n",
    "print(f\"Nota més baixa: {nota_mes_baixa}\")\n",
    "\n",
    "# 5. Alumne amb la nota més alta de mitjana\n",
    "alumne_top = df.loc[df['Mitjana'].idxmax()]\n",
    "print(f\"\\nAlumne amb la nota més alta de mitjana:\")\n",
    "print(f\"{alumne_top['Alumne']} (Mitjana: {alumne_top['Mitjana']:.2f})\")\n"
   ]
  }
 ],
 "metadata": {
  "kernelspec": {
   "display_name": "Python 3 (ipykernel)",
   "language": "python",
   "name": "python3"
  },
  "language_info": {
   "codemirror_mode": {
    "name": "ipython",
    "version": 3
   },
   "file_extension": ".py",
   "mimetype": "text/x-python",
   "name": "python",
   "nbconvert_exporter": "python",
   "pygments_lexer": "ipython3",
   "version": "3.12.1"
  }
 },
 "nbformat": 4,
 "nbformat_minor": 5
}
