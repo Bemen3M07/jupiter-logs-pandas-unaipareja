{
 "cells": [
  {
   "cell_type": "code",
   "execution_count": null,
   "id": "f8542928-6f49-48d6-92ef-28324f9d4f3d",
   "metadata": {},
   "outputs": [],
   "source": []
  },
  {
   "cell_type": "code",
   "execution_count": 1,
   "id": "4fd971ba-9f52-44ca-aee9-1a085120da6e",
   "metadata": {},
   "outputs": [
    {
     "name": "stderr",
     "output_type": "stream",
     "text": [
      "2024-11-19 19:14:38,739 - INFO - INFO\n",
      "2024-11-19 19:14:38,740 - ERROR - ERROR\n",
      "2024-11-19 19:14:40,741 - INFO - INFO\n",
      "2024-11-19 19:14:40,743 - ERROR - ERROR\n",
      "2024-11-19 19:14:42,744 - INFO - INFO\n",
      "2024-11-19 19:14:42,745 - ERROR - ERROR\n",
      "2024-11-19 19:14:44,746 - INFO - INFO\n",
      "2024-11-19 19:14:44,747 - ERROR - ERROR\n",
      "2024-11-19 19:14:46,749 - INFO - INFO\n",
      "2024-11-19 19:14:46,750 - ERROR - ERROR\n",
      "2024-11-19 19:14:48,751 - INFO - INFO\n",
      "2024-11-19 19:14:48,752 - ERROR - ERROR\n",
      "2024-11-19 19:14:50,753 - INFO - INFO\n",
      "2024-11-19 19:14:50,754 - ERROR - ERROR\n",
      "2024-11-19 19:14:52,755 - INFO - INFO\n",
      "2024-11-19 19:14:52,756 - ERROR - ERROR\n",
      "2024-11-19 19:14:54,757 - INFO - INFO\n",
      "2024-11-19 19:14:54,758 - ERROR - ERROR\n",
      "2024-11-19 19:14:56,759 - INFO - INFO\n",
      "2024-11-19 19:14:56,760 - ERROR - ERROR\n",
      "2024-11-19 19:14:58,761 - INFO - INFO\n",
      "2024-11-19 19:14:58,762 - ERROR - ERROR\n",
      "2024-11-19 19:15:00,763 - INFO - INFO\n",
      "2024-11-19 19:15:00,764 - ERROR - ERROR\n",
      "2024-11-19 19:15:02,764 - INFO - INFO\n",
      "2024-11-19 19:15:02,765 - ERROR - ERROR\n",
      "2024-11-19 19:15:04,767 - INFO - INFO\n",
      "2024-11-19 19:15:04,768 - ERROR - ERROR\n",
      "2024-11-19 19:15:06,769 - INFO - INFO\n",
      "2024-11-19 19:15:06,770 - ERROR - ERROR\n",
      "2024-11-19 19:15:08,771 - INFO - INFO\n",
      "2024-11-19 19:15:08,772 - ERROR - ERROR\n",
      "2024-11-19 19:15:10,773 - INFO - INFO\n",
      "2024-11-19 19:15:10,774 - ERROR - ERROR\n",
      "2024-11-19 19:15:12,774 - INFO - INFO\n",
      "2024-11-19 19:15:12,775 - ERROR - ERROR\n",
      "2024-11-19 19:15:14,776 - INFO - INFO\n",
      "2024-11-19 19:15:14,778 - ERROR - ERROR\n",
      "2024-11-19 19:15:16,779 - INFO - INFO\n",
      "2024-11-19 19:15:16,780 - ERROR - ERROR\n",
      "2024-11-19 19:15:18,781 - INFO - INFO\n",
      "2024-11-19 19:15:18,782 - ERROR - ERROR\n",
      "2024-11-19 19:15:20,624 - INFO - Se termino\n"
     ]
    }
   ],
   "source": [
    "import logging\n",
    "import time\n",
    "\n",
    "# Configuración del logger\n",
    "logging.basicConfig(\n",
    "    level=logging.DEBUG,\n",
    "    format='%(asctime)s - %(levelname)s - %(message)s', # formato mensaje\n",
    "    handlers=[\n",
    "        logging.StreamHandler(),  # Imprimir en consola\n",
    "        logging.FileHandler('infolog.log')  # Guardar en un archivo\n",
    "    ]\n",
    ")\n",
    "\n",
    "logger = logging.getLogger()\n",
    "\n",
    "try:\n",
    "    while True:\n",
    "        # Mensaje de nivel INFO\n",
    "        logger.info(\"Mensaje de Info\")\n",
    "        # Mensaje de nivel ERROR\n",
    "        logger.error(\"Mensaje de Error\")\n",
    "        # Pausa\n",
    "        time.sleep(2)\n",
    "except KeyboardInterrupt:\n",
    "    logger.info(\"Se termino\")"
   ]
  },
  {
   "cell_type": "code",
   "execution_count": null,
   "id": "eaee411c-c95f-40b5-92a8-f1c46f02f54e",
   "metadata": {},
   "outputs": [],
   "source": []
  },
  {
   "cell_type": "code",
   "execution_count": null,
   "id": "3267920d-cd94-4cfe-bed0-8ddb6400a9da",
   "metadata": {},
   "outputs": [],
   "source": []
  }
 ],
 "metadata": {
  "kernelspec": {
   "display_name": "Python 3 (ipykernel)",
   "language": "python",
   "name": "python3"
  },
  "language_info": {
   "codemirror_mode": {
    "name": "ipython",
    "version": 3
   },
   "file_extension": ".py",
   "mimetype": "text/x-python",
   "name": "python",
   "nbconvert_exporter": "python",
   "pygments_lexer": "ipython3",
   "version": "3.12.1"
  }
 },
 "nbformat": 4,
 "nbformat_minor": 5
}
