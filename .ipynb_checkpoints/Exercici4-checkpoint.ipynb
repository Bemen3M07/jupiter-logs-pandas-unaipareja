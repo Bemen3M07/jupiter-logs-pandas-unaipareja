{
 "cells": [
  {
   "cell_type": "markdown",
   "id": "a9efb117-7e5c-4c36-85b7-d21f5c9f89e9",
   "metadata": {},
   "source": [
    "# Exercici 4 \n",
    "En aquest exercici caldrà generar per exemple un CSV amb les dades que treballareu. RECORDAR que el CSV treballa amb comes.\n",
    "Un cop generat el CSV, caldrà bolcar les dades al JUPYTER i comprovar que es mostren correctament.\n"
   ]
  },
  {
   "cell_type": "code",
   "execution_count": 1,
   "id": "80d01c84-7afb-4dc0-8253-1f552a4dc96b",
   "metadata": {},
   "outputs": [
    {
     "name": "stdout",
     "output_type": "stream",
     "text": [
      "   Professor  Alumne  M01  M04  M03  M05\n",
      "0      Emili  Xavier   10    7    9    4\n",
      "1      Mario    Marc    4    7   10    9\n",
      "2     Steven   Jaume    6   10    9    6\n",
      "3       Anna   Laura   10    5    5   10\n",
      "4      Clara   Jordi    9    8    4    9\n",
      "5       Joan    Sara    8    4    5    9\n",
      "6      Elena     Pau    4    8   10    6\n",
      "7      Josep   Clara    5    6    8    7\n",
      "8      Maria   Oriol    9    5    4    4\n",
      "9      Carla   David   10    8   10   10\n",
      "10     Emili   Núria    7   10    6    4\n",
      "11     Mario  Miquel    9    8    6    5\n",
      "12    Steven     Pol    4    5    7    6\n",
      "13      Anna    Joan    8   10    9    4\n",
      "14     Clara   Arnau   10    8    4    6\n",
      "15      Joan    Anna    6    7    9    8\n",
      "16     Elena  Carles    6    9    7    7\n",
      "17     Josep   Marta   10    8    5    5\n",
      "18     Maria   Sònia    4    4    8   10\n",
      "19     Carla    Ivan    9    7   10    9\n"
     ]
    }
   ],
   "source": [
    "import pandas as pd\n",
    "\n",
    "# Professors (10 en total)\n",
    "professors = [\"Emili\", \"Mario\", \"Steven\", \"Anna\", \"Clara\", \"Joan\", \"Elena\", \"Josep\", \"Maria\", \"Carla\"]\n",
    "\n",
    "# Alumnes (20 en total)\n",
    "alumnes = [\"Xavier\", \"Marc\", \"Jaume\", \"Laura\", \"Jordi\", \"Sara\", \"Pau\", \"Clara\", \"Oriol\", \"David\", \n",
    "           \"Núria\", \"Miquel\", \"Pol\", \"Joan\", \"Arnau\", \"Anna\", \"Carles\", \"Marta\", \"Sònia\", \"Ivan\"]\n",
    "\n",
    "# Notes generades de manera aleatòria entre 4 i 10\n",
    "import random\n",
    "notes = {\n",
    "    \"M01\": [random.randint(4, 10) for _ in range(20)],\n",
    "    \"M04\": [random.randint(4, 10) for _ in range(20)],\n",
    "    \"M03\": [random.randint(4, 10) for _ in range(20)],\n",
    "    \"M05\": [random.randint(4, 10) for _ in range(20)],\n",
    "}\n",
    "\n",
    "# Crear el DataFrame\n",
    "data = {\n",
    "    \"Professor\": [professors[i % len(professors)] for i in range(20)],\n",
    "    \"Alumne\": alumnes,\n",
    "    \"M01\": notes[\"M01\"],\n",
    "    \"M04\": notes[\"M04\"],\n",
    "    \"M03\": notes[\"M03\"],\n",
    "    \"M05\": notes[\"M05\"],\n",
    "}\n",
    "\n",
    "df = pd.DataFrame(data)\n",
    "\n",
    "# Guardar el DataFrame com a CSV\n",
    "df.to_csv(\"notes.csv\", index=False)\n",
    "\n",
    "# Mostrar les dades\n",
    "print(df)\n"
   ]
  }
 ],
 "metadata": {
  "kernelspec": {
   "display_name": "Python 3 (ipykernel)",
   "language": "python",
   "name": "python3"
  },
  "language_info": {
   "codemirror_mode": {
    "name": "ipython",
    "version": 3
   },
   "file_extension": ".py",
   "mimetype": "text/x-python",
   "name": "python",
   "nbconvert_exporter": "python",
   "pygments_lexer": "ipython3",
   "version": "3.12.1"
  }
 },
 "nbformat": 4,
 "nbformat_minor": 5
}
