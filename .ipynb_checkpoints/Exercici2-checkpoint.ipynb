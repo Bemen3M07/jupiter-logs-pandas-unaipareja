{
 "cells": [
  {
   "cell_type": "code",
   "execution_count": null,
   "id": "33559135-2d80-4a94-a6d3-176ba1041e4e",
   "metadata": {},
   "outputs": [],
   "source": [
    "import logging\n",
    "\n",
    "# Configuració del logger principal\n",
    "logger = logging.getLogger(\"MainLogger\")\n",
    "logger.setLevel(logging.DEBUG)\n",
    "\n",
    "# Handler per guardar missatges d'info i superiors\n",
    "info_handler = logging.FileHandler(\"info.log\")\n",
    "info_handler.setLevel(logging.INFO)\n",
    "\n",
    "# Handler per guardar missatges d'error i superiors\n",
    "error_handler = logging.FileHandler(\"error.log\")\n",
    "error_handler.setLevel(logging.ERROR)\n",
    "\n",
    "# Formatador comú\n",
    "formatter = logging.Formatter(\"%(asctime)s - %(levelname)s - %(message)s\")\n",
    "info_handler.setFormatter(formatter)\n",
    "error_handler.setFormatter(formatter)\n",
    "\n",
    "# Afegim els handlers al logger principal\n",
    "logger.addHandler(info_handler)\n",
    "logger.addHandler(error_handler)\n",
    "\n",
    "# Exemple de log per comprovar que funciona\n",
    "logger.info(\"Aquest és un missatge d'info.\")\n",
    "logger.error(\"Aquest és un missatge d'error.\")\n",
    "\n",
    "# Handler per mostrar missatges per pantalla\n",
    "console_handler = logging.StreamHandler()\n",
    "console_handler.setLevel(logging.INFO)\n",
    "console_handler.setFormatter(formatter)\n",
    "\n",
    "# Afegim el handler de pantalla al logger principal\n",
    "logger.addHandler(console_handler)\n",
    "\n",
    "# Exemple de log per comprovar que funciona\n",
    "logger.info(\"Missatge d'info que també es mostra per pantalla.\")\n",
    "logger.error(\"Missatge d'error que també es mostra per pantalla.\")\n"
   ]
  }
 ],
 "metadata": {
  "kernelspec": {
   "display_name": "Python 3 (ipykernel)",
   "language": "python",
   "name": "python3"
  },
  "language_info": {
   "codemirror_mode": {
    "name": "ipython",
    "version": 3
   },
   "file_extension": ".py",
   "mimetype": "text/x-python",
   "name": "python",
   "nbconvert_exporter": "python",
   "pygments_lexer": "ipython3",
   "version": "3.12.1"
  }
 },
 "nbformat": 4,
 "nbformat_minor": 5
}
